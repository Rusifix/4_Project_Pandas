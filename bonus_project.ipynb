{
 "cells": [
  {
   "cell_type": "markdown",
   "id": "df8b7a89-6245-4ece-8c46-71e6d5b802a0",
   "metadata": {},
   "source": [
    "<h1>Дополнительный проект</h1>\n",
    "\n",
    "<p>Имеется таблица с записями о компаниях, включая их ИНН, и отдельный текстовый файл с набором ИНН (колонка head_inn), которые хранятся в папке 4_inn.\n",
    "</p>\n",
    "<p>inn.xls — таблица в экселевском формате</p>\n",
    "<p>necessary_inn.txt — перечень необходимых ИНН в текстовом формате\n",
    "</p>\n",
    "<h2>Задачи:</h2>\n",
    "<p>1 - извлечь из таблицы записи с ИНН, указанными в текстовом файле</p>\n",
    "<p>2 - записать результат в файл selected_inn.csv</p>\n"
   ]
  },
  {
   "cell_type": "markdown",
   "id": "499e00d3-127b-4159-a487-2d051b00d1fa",
   "metadata": {},
   "source": [
    "<h2>1 - извлечь из таблицы записи с ИНН, указанными в текстовом файле</h2>"
   ]
  },
  {
   "cell_type": "code",
   "execution_count": 3,
   "id": "fdef3bca-4665-4d35-ab2c-9177e4a20777",
   "metadata": {
    "tags": []
   },
   "outputs": [
    {
     "name": "stdout",
     "output_type": "stream",
     "text": [
      "Collecting xlrd\n",
      "  Obtaining dependency information for xlrd from https://files.pythonhosted.org/packages/a6/0c/c2a72d51fe56e08a08acc85d13013558a2d793028ae7385448a6ccdfae64/xlrd-2.0.1-py2.py3-none-any.whl.metadata\n",
      "  Downloading xlrd-2.0.1-py2.py3-none-any.whl.metadata (3.4 kB)\n",
      "Downloading xlrd-2.0.1-py2.py3-none-any.whl (96 kB)\n",
      "   ---------------------------------------- 0.0/96.5 kB ? eta -:--:--\n",
      "   ---- ----------------------------------- 10.2/96.5 kB ? eta -:--:--\n",
      "   ------------ --------------------------- 30.7/96.5 kB 660.6 kB/s eta 0:00:01\n",
      "   --------------------------------- ------ 81.9/96.5 kB 762.6 kB/s eta 0:00:01\n",
      "   ---------------------------------------- 96.5/96.5 kB 784.5 kB/s eta 0:00:00\n",
      "Installing collected packages: xlrd\n",
      "Successfully installed xlrd-2.0.1\n"
     ]
    }
   ],
   "source": [
    "import pandas as pd\n",
    "!pip install xlrd"
   ]
  },
  {
   "cell_type": "code",
   "execution_count": 4,
   "id": "67242967-c9a2-4699-ac6f-cbec8d0e1183",
   "metadata": {
    "tags": []
   },
   "outputs": [],
   "source": [
    "df = pd.read_excel('4_inn (1).xls')"
   ]
  },
  {
   "cell_type": "code",
   "execution_count": 33,
   "id": "79452a87-7912-4287-b73b-b46965c133a2",
   "metadata": {
    "tags": []
   },
   "outputs": [
    {
     "data": {
      "text/plain": [
       "(2110, 20)"
      ]
     },
     "execution_count": 33,
     "metadata": {},
     "output_type": "execute_result"
    }
   ],
   "source": [
    "df.shape"
   ]
  },
  {
   "cell_type": "code",
   "execution_count": 6,
   "id": "4fff951c-024b-48c3-a7b2-6349000820c3",
   "metadata": {
    "tags": []
   },
   "outputs": [],
   "source": [
    "inn_df = df['head_inn']"
   ]
  },
  {
   "cell_type": "code",
   "execution_count": 37,
   "id": "d674ebe6-fc1c-40d5-96e0-fb1cb0686e84",
   "metadata": {
    "tags": []
   },
   "outputs": [],
   "source": [
    "txt_inn = []\n",
    "with open('4_necessary_inn.txt') as file:\n",
    "    for i in file:\n",
    "        txt_inn.append(int(i.replace('\\n','')))"
   ]
  },
  {
   "cell_type": "code",
   "execution_count": 40,
   "id": "f65348b3-bcb1-45d9-b232-7e4632eb2d82",
   "metadata": {
    "tags": []
   },
   "outputs": [],
   "source": [
    "inn_from_df = []\n",
    "for i in inn_df:\n",
    "    for j in txt_inn:\n",
    "        if i == j:\n",
    "            inn_from_df.append(i)"
   ]
  },
  {
   "cell_type": "code",
   "execution_count": 43,
   "id": "7758f65a-0ff5-4ee6-964b-c4d323726124",
   "metadata": {
    "tags": []
   },
   "outputs": [
    {
     "data": {
      "text/plain": [
       "115"
      ]
     },
     "execution_count": 43,
     "metadata": {},
     "output_type": "execute_result"
    }
   ],
   "source": [
    "len(inn_from_df)"
   ]
  }
 ],
 "metadata": {
  "kernelspec": {
   "display_name": "Python 3 (ipykernel)",
   "language": "python",
   "name": "python3"
  },
  "language_info": {
   "codemirror_mode": {
    "name": "ipython",
    "version": 3
   },
   "file_extension": ".py",
   "mimetype": "text/x-python",
   "name": "python",
   "nbconvert_exporter": "python",
   "pygments_lexer": "ipython3",
   "version": "3.11.5"
  }
 },
 "nbformat": 4,
 "nbformat_minor": 5
}
