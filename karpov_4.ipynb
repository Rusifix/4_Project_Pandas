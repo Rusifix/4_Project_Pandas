{
 "cells": [
  {
   "cell_type": "markdown",
   "id": "1533103d-3bdc-44b1-af59-432b53660427",
   "metadata": {
    "tags": []
   },
   "source": [
    "<h1>Описание</h1>\n",
    "<p>На этот раз данные имеют следующую структуру: </p>\n",
    "<p>записываются для каждого пользователя, совершившего покупки, каждый день</p>\n",
    "<p>для каждой даты есть своя папка, внутри неё – папки для каждого пользователя</p>\n",
    "<p>внутри каждой папки есть файл data.csv, где и хранятся данные</p>\n",
    "<p>Схематично выглядит так:</p>"
   ]
  },
  {
   "cell_type": "raw",
   "id": "c95c0afc-e0cf-43d0-aff7-0c2d1af20273",
   "metadata": {
    "tags": []
   },
   "source": [
    "└── data\n",
    "   ├── 2020-12-30\n",
    "   │  ├── FirstName_LastName1\n",
    "   │  │   └── data.csv\n",
    "   │  ├── FirstName_LastName2\n",
    "   │  │   └── data.csv\n",
    "   │  └── FirstName_LastName3\n",
    "   │      └── data.csv\n",
    "   └── 2020-12-31\n",
    "      ├── FirstName_LastName1\n",
    "      │   └── data.csv\n",
    "      └── FirstName_LastName5\n",
    "          └── data.csv"
   ]
  },
  {
   "cell_type": "markdown",
   "id": "d84fcc9a-750f-4258-bdc8-d055c49caf94",
   "metadata": {},
   "source": [
    "Например, 30 декабря три покупателя сделали покупки, 31 – два (папки 2020-12-30 и 2020-12-31 соответственно). Поскольку клиент FirstName_LastName1 купил товары в оба дня, для него имеется папка в папке для каждой из дат. Для других клиентов – по одной.\n",
    "\n",
    "Note: данные в задании покрывают другой временной период, имена тоже другие. Подробности, примеры и возможные подсказки можно найти в текстах следующих шагов."
   ]
  },
  {
   "cell_type": "markdown",
   "id": "91a36bbf-dfa9-4d14-b9e5-3902d55a94e7",
   "metadata": {},
   "source": [
    "<h1>Задачи</h1>"
   ]
  },
  {
   "cell_type": "markdown",
   "id": "91d6e671-b40f-4ee7-a586-863371070f1b",
   "metadata": {},
   "source": [
    "<p>1 - Соберите все данные из папки data в один датафрэйм, имеющий следующие столбцы: колонки из самих файлов (product_id, quantity), а также имя пользователя (name), и дата этих покупок (date), соответствует названию папки, где лежит папка с пользователем)</p>\n",
    "<p>2 - Выясните, какой пользователь купил больше всего товаров. Если их несколько, то перечислите имена через запятую с пробелом и в алфавитном порядке.</p>\n",
    "<p>3 - Найдите топ-10 товаров по числу проданных единиц за всё время и постройте барплот. Сколько было продано единиц товара с product_id==56?</p>\n",
    "<p>4 - Визуализируйте продажи по дням.</p>\n",
    "<p>5 - Сколько пользователей приобрели какой-либо товар повторно (более 1 раза)? Повтором будем считать покупку товара с одинаковым product_id, совершенную в разные дни.</p>"
   ]
  },
  {
   "cell_type": "markdown",
   "id": "882662b5-849b-41a5-9470-7bf297fb871b",
   "metadata": {
    "tags": []
   },
   "source": [
    "<h1>1 - Соберите все данные из папки data в один датафрэйм, имеющий следующие столбцы: колонки из самих файлов (product_id, quantity), а также имя пользователя (name), и дата этих покупок (date), соответствует названию папки, где лежит папка с пользователем)</h1>"
   ]
  },
  {
   "cell_type": "code",
   "execution_count": 81,
   "id": "124eca63-e90f-4fcd-b4eb-77329842b3a6",
   "metadata": {
    "tags": []
   },
   "outputs": [],
   "source": [
    "import pandas as pd\n",
    "import numpy as np\n",
    "import os\n",
    "import matplotlib.pyplot as plt\n",
    "import seaborn as sns"
   ]
  },
  {
   "cell_type": "code",
   "execution_count": 5,
   "id": "8231fba1-4989-451e-a970-c19dd3e893ad",
   "metadata": {
    "tags": []
   },
   "outputs": [],
   "source": [
    "data = [i for i in os.listdir('data') if not i.startswith('.')]"
   ]
  },
  {
   "cell_type": "code",
   "execution_count": 6,
   "id": "e3a0f29f-6f89-4443-943f-92a117f3e597",
   "metadata": {
    "tags": []
   },
   "outputs": [
    {
     "data": {
      "text/plain": [
       "['2020-12-03',\n",
       " '2020-12-04',\n",
       " '2020-12-05',\n",
       " '2020-12-06',\n",
       " '2020-12-07',\n",
       " '2020-12-08',\n",
       " '2020-12-09']"
      ]
     },
     "execution_count": 6,
     "metadata": {},
     "output_type": "execute_result"
    }
   ],
   "source": [
    "data"
   ]
  },
  {
   "cell_type": "code",
   "execution_count": 9,
   "id": "9d002c0c-53c8-40bb-927c-6622f3655161",
   "metadata": {
    "tags": []
   },
   "outputs": [],
   "source": [
    "# df = pd.DataFrame()\n",
    "# steps = len(data)\n",
    "# k = 0\n",
    "# while steps > 0:\n",
    "#     file_path = f'{data[k]}//..'\n",
    "    \n",
    "    \n",
    "#     steps -= 1\n",
    "#     k += 1\n",
    "# Рабочая тетрадь Python/project/karpov_4/data/2020-12-03/Alexey_Smirnov/data.csv"
   ]
  },
  {
   "cell_type": "code",
   "execution_count": 27,
   "id": "84c608d0-582c-431f-855b-0d6b6bc5e22f",
   "metadata": {
    "tags": []
   },
   "outputs": [
    {
     "data": {
      "text/plain": [
       "'C:\\\\Users\\\\Алекс\\\\Рабочая тетрадь Python\\\\project\\\\karpov_4\\\\data'"
      ]
     },
     "execution_count": 27,
     "metadata": {},
     "output_type": "execute_result"
    }
   ],
   "source": [
    "df = pd.DataFrame(columns=['product_id', 'quantity', 'name', 'date'])\n",
    "file_name = 'data.csv'\n",
    "path = os.getcwd()\n",
    "path += '\\\\data'\n",
    "path"
   ]
  },
  {
   "cell_type": "code",
   "execution_count": 38,
   "id": "8526bfed-0e32-4cc4-93fa-fc5e83f33172",
   "metadata": {
    "tags": []
   },
   "outputs": [
    {
     "data": {
      "text/html": [
       "<div>\n",
       "<style scoped>\n",
       "    .dataframe tbody tr th:only-of-type {\n",
       "        vertical-align: middle;\n",
       "    }\n",
       "\n",
       "    .dataframe tbody tr th {\n",
       "        vertical-align: top;\n",
       "    }\n",
       "\n",
       "    .dataframe thead th {\n",
       "        text-align: right;\n",
       "    }\n",
       "</style>\n",
       "<table border=\"1\" class=\"dataframe\">\n",
       "  <thead>\n",
       "    <tr style=\"text-align: right;\">\n",
       "      <th></th>\n",
       "      <th>product_id</th>\n",
       "      <th>quantity</th>\n",
       "      <th>name</th>\n",
       "      <th>date</th>\n",
       "      <th>Unnamed: 0</th>\n",
       "    </tr>\n",
       "  </thead>\n",
       "  <tbody>\n",
       "    <tr>\n",
       "      <th>0</th>\n",
       "      <td>47</td>\n",
       "      <td>1</td>\n",
       "      <td>Alexey_Smirnov</td>\n",
       "      <td>2020-12-03</td>\n",
       "      <td>0.0</td>\n",
       "    </tr>\n",
       "    <tr>\n",
       "      <th>1</th>\n",
       "      <td>57</td>\n",
       "      <td>1</td>\n",
       "      <td>Alexey_Smirnov</td>\n",
       "      <td>2020-12-03</td>\n",
       "      <td>1.0</td>\n",
       "    </tr>\n",
       "    <tr>\n",
       "      <th>2</th>\n",
       "      <td>14</td>\n",
       "      <td>2</td>\n",
       "      <td>Alexey_Smirnov</td>\n",
       "      <td>2020-12-03</td>\n",
       "      <td>2.0</td>\n",
       "    </tr>\n",
       "    <tr>\n",
       "      <th>3</th>\n",
       "      <td>52</td>\n",
       "      <td>1</td>\n",
       "      <td>Alexey_Smirnov</td>\n",
       "      <td>2020-12-03</td>\n",
       "      <td>3.0</td>\n",
       "    </tr>\n",
       "    <tr>\n",
       "      <th>4</th>\n",
       "      <td>1</td>\n",
       "      <td>4</td>\n",
       "      <td>Alexey_Smirnov</td>\n",
       "      <td>2020-12-03</td>\n",
       "      <td>4.0</td>\n",
       "    </tr>\n",
       "    <tr>\n",
       "      <th>...</th>\n",
       "      <td>...</td>\n",
       "      <td>...</td>\n",
       "      <td>...</td>\n",
       "      <td>...</td>\n",
       "      <td>...</td>\n",
       "    </tr>\n",
       "    <tr>\n",
       "      <th>317</th>\n",
       "      <td>66</td>\n",
       "      <td>4</td>\n",
       "      <td>Rostislav_Petrov</td>\n",
       "      <td>2020-12-09</td>\n",
       "      <td>1.0</td>\n",
       "    </tr>\n",
       "    <tr>\n",
       "      <th>318</th>\n",
       "      <td>39</td>\n",
       "      <td>2</td>\n",
       "      <td>Rostislav_Petrov</td>\n",
       "      <td>2020-12-09</td>\n",
       "      <td>2.0</td>\n",
       "    </tr>\n",
       "    <tr>\n",
       "      <th>319</th>\n",
       "      <td>82</td>\n",
       "      <td>4</td>\n",
       "      <td>Vasiliy_Ivanov</td>\n",
       "      <td>2020-12-09</td>\n",
       "      <td>0.0</td>\n",
       "    </tr>\n",
       "    <tr>\n",
       "      <th>320</th>\n",
       "      <td>74</td>\n",
       "      <td>2</td>\n",
       "      <td>Vasiliy_Ivanov</td>\n",
       "      <td>2020-12-09</td>\n",
       "      <td>1.0</td>\n",
       "    </tr>\n",
       "    <tr>\n",
       "      <th>321</th>\n",
       "      <td>54</td>\n",
       "      <td>3</td>\n",
       "      <td>Vasiliy_Ivanov</td>\n",
       "      <td>2020-12-09</td>\n",
       "      <td>2.0</td>\n",
       "    </tr>\n",
       "  </tbody>\n",
       "</table>\n",
       "<p>322 rows × 5 columns</p>\n",
       "</div>"
      ],
      "text/plain": [
       "    product_id quantity              name        date  Unnamed: 0\n",
       "0           47        1    Alexey_Smirnov  2020-12-03         0.0\n",
       "1           57        1    Alexey_Smirnov  2020-12-03         1.0\n",
       "2           14        2    Alexey_Smirnov  2020-12-03         2.0\n",
       "3           52        1    Alexey_Smirnov  2020-12-03         3.0\n",
       "4            1        4    Alexey_Smirnov  2020-12-03         4.0\n",
       "..         ...      ...               ...         ...         ...\n",
       "317         66        4  Rostislav_Petrov  2020-12-09         1.0\n",
       "318         39        2  Rostislav_Petrov  2020-12-09         2.0\n",
       "319         82        4    Vasiliy_Ivanov  2020-12-09         0.0\n",
       "320         74        2    Vasiliy_Ivanov  2020-12-09         1.0\n",
       "321         54        3    Vasiliy_Ivanov  2020-12-09         2.0\n",
       "\n",
       "[322 rows x 5 columns]"
      ]
     },
     "execution_count": 38,
     "metadata": {},
     "output_type": "execute_result"
    }
   ],
   "source": [
    "for i in data:\n",
    "    file_path_users = path + '\\\\' + i\n",
    "    data_file = i\n",
    "    for j in [i for i in os.listdir(file_path_users) if not i.startswith('.')]:\n",
    "        file_path = file_path_users + '\\\\' + j + '\\\\' + file_name\n",
    "        temp_df = pd.read_csv(file_path)\n",
    "        temp_df['name'] = j\n",
    "        temp_df['date'] = data_file\n",
    "        df = pd.concat([df,temp_df], ignore_index=True)\n",
    "df"
   ]
  },
  {
   "cell_type": "code",
   "execution_count": 40,
   "id": "aae3b27f-6f91-41c7-a934-06bc5caf2882",
   "metadata": {
    "tags": []
   },
   "outputs": [],
   "source": [
    "df = df.drop_duplicates()"
   ]
  },
  {
   "cell_type": "code",
   "execution_count": 41,
   "id": "ef3cde2e-b3a9-4df1-a414-43a12fd2318e",
   "metadata": {
    "tags": []
   },
   "outputs": [
    {
     "data": {
      "text/html": [
       "<div>\n",
       "<style scoped>\n",
       "    .dataframe tbody tr th:only-of-type {\n",
       "        vertical-align: middle;\n",
       "    }\n",
       "\n",
       "    .dataframe tbody tr th {\n",
       "        vertical-align: top;\n",
       "    }\n",
       "\n",
       "    .dataframe thead th {\n",
       "        text-align: right;\n",
       "    }\n",
       "</style>\n",
       "<table border=\"1\" class=\"dataframe\">\n",
       "  <thead>\n",
       "    <tr style=\"text-align: right;\">\n",
       "      <th></th>\n",
       "      <th>product_id</th>\n",
       "      <th>quantity</th>\n",
       "      <th>name</th>\n",
       "      <th>date</th>\n",
       "      <th>Unnamed: 0</th>\n",
       "    </tr>\n",
       "  </thead>\n",
       "  <tbody>\n",
       "    <tr>\n",
       "      <th>0</th>\n",
       "      <td>47</td>\n",
       "      <td>1</td>\n",
       "      <td>Alexey_Smirnov</td>\n",
       "      <td>2020-12-03</td>\n",
       "      <td>0.0</td>\n",
       "    </tr>\n",
       "    <tr>\n",
       "      <th>1</th>\n",
       "      <td>57</td>\n",
       "      <td>1</td>\n",
       "      <td>Alexey_Smirnov</td>\n",
       "      <td>2020-12-03</td>\n",
       "      <td>1.0</td>\n",
       "    </tr>\n",
       "    <tr>\n",
       "      <th>2</th>\n",
       "      <td>14</td>\n",
       "      <td>2</td>\n",
       "      <td>Alexey_Smirnov</td>\n",
       "      <td>2020-12-03</td>\n",
       "      <td>2.0</td>\n",
       "    </tr>\n",
       "    <tr>\n",
       "      <th>3</th>\n",
       "      <td>52</td>\n",
       "      <td>1</td>\n",
       "      <td>Alexey_Smirnov</td>\n",
       "      <td>2020-12-03</td>\n",
       "      <td>3.0</td>\n",
       "    </tr>\n",
       "    <tr>\n",
       "      <th>4</th>\n",
       "      <td>1</td>\n",
       "      <td>4</td>\n",
       "      <td>Alexey_Smirnov</td>\n",
       "      <td>2020-12-03</td>\n",
       "      <td>4.0</td>\n",
       "    </tr>\n",
       "    <tr>\n",
       "      <th>...</th>\n",
       "      <td>...</td>\n",
       "      <td>...</td>\n",
       "      <td>...</td>\n",
       "      <td>...</td>\n",
       "      <td>...</td>\n",
       "    </tr>\n",
       "    <tr>\n",
       "      <th>156</th>\n",
       "      <td>66</td>\n",
       "      <td>4</td>\n",
       "      <td>Rostislav_Petrov</td>\n",
       "      <td>2020-12-09</td>\n",
       "      <td>1.0</td>\n",
       "    </tr>\n",
       "    <tr>\n",
       "      <th>157</th>\n",
       "      <td>39</td>\n",
       "      <td>2</td>\n",
       "      <td>Rostislav_Petrov</td>\n",
       "      <td>2020-12-09</td>\n",
       "      <td>2.0</td>\n",
       "    </tr>\n",
       "    <tr>\n",
       "      <th>158</th>\n",
       "      <td>82</td>\n",
       "      <td>4</td>\n",
       "      <td>Vasiliy_Ivanov</td>\n",
       "      <td>2020-12-09</td>\n",
       "      <td>0.0</td>\n",
       "    </tr>\n",
       "    <tr>\n",
       "      <th>159</th>\n",
       "      <td>74</td>\n",
       "      <td>2</td>\n",
       "      <td>Vasiliy_Ivanov</td>\n",
       "      <td>2020-12-09</td>\n",
       "      <td>1.0</td>\n",
       "    </tr>\n",
       "    <tr>\n",
       "      <th>160</th>\n",
       "      <td>54</td>\n",
       "      <td>3</td>\n",
       "      <td>Vasiliy_Ivanov</td>\n",
       "      <td>2020-12-09</td>\n",
       "      <td>2.0</td>\n",
       "    </tr>\n",
       "  </tbody>\n",
       "</table>\n",
       "<p>161 rows × 5 columns</p>\n",
       "</div>"
      ],
      "text/plain": [
       "    product_id quantity              name        date  Unnamed: 0\n",
       "0           47        1    Alexey_Smirnov  2020-12-03         0.0\n",
       "1           57        1    Alexey_Smirnov  2020-12-03         1.0\n",
       "2           14        2    Alexey_Smirnov  2020-12-03         2.0\n",
       "3           52        1    Alexey_Smirnov  2020-12-03         3.0\n",
       "4            1        4    Alexey_Smirnov  2020-12-03         4.0\n",
       "..         ...      ...               ...         ...         ...\n",
       "156         66        4  Rostislav_Petrov  2020-12-09         1.0\n",
       "157         39        2  Rostislav_Petrov  2020-12-09         2.0\n",
       "158         82        4    Vasiliy_Ivanov  2020-12-09         0.0\n",
       "159         74        2    Vasiliy_Ivanov  2020-12-09         1.0\n",
       "160         54        3    Vasiliy_Ivanov  2020-12-09         2.0\n",
       "\n",
       "[161 rows x 5 columns]"
      ]
     },
     "execution_count": 41,
     "metadata": {},
     "output_type": "execute_result"
    }
   ],
   "source": [
    "df"
   ]
  },
  {
   "cell_type": "markdown",
   "id": "ab96773b-c7fa-4067-af05-11e6a927d4cb",
   "metadata": {
    "tags": []
   },
   "source": [
    "<h1>2 - Выясните, какой пользователь купил больше всего товаров. Если их несколько, то перечислите имена через запятую с пробелом и в алфавитном порядке.</h1>"
   ]
  },
  {
   "cell_type": "code",
   "execution_count": 53,
   "id": "428c45c5-2c52-4212-a040-b7803e611597",
   "metadata": {
    "tags": []
   },
   "outputs": [],
   "source": [
    "top_user_2 = df.groupby('name').agg({'quantity':'sum'}).sort_values('quantity', ascending=False).head(5)"
   ]
  },
  {
   "cell_type": "code",
   "execution_count": 51,
   "id": "dcdb8536-fa49-4c87-afe0-84d76c951cea",
   "metadata": {
    "tags": []
   },
   "outputs": [],
   "source": [
    "top_user = df.groupby('name',as_index=True).agg({'quantity':'sum'}).idxmax()"
   ]
  },
  {
   "cell_type": "code",
   "execution_count": 52,
   "id": "ff086684-4884-4a99-b139-9ce471a8b6a7",
   "metadata": {
    "tags": []
   },
   "outputs": [
    {
     "data": {
      "text/plain": [
       "quantity    Alexey_Smirnov\n",
       "dtype: object"
      ]
     },
     "execution_count": 52,
     "metadata": {},
     "output_type": "execute_result"
    }
   ],
   "source": [
    "top_user"
   ]
  },
  {
   "cell_type": "code",
   "execution_count": 58,
   "id": "d97c67a1-6f64-4fbf-81c2-e3e5ef6e3431",
   "metadata": {
    "tags": []
   },
   "outputs": [
    {
     "name": "stdout",
     "output_type": "stream",
     "text": [
      "Index(['Alexey_Smirnov', 'Petr_Smirnov'], dtype='object', name='name')\n"
     ]
    }
   ],
   "source": [
    "print(top_user_2.iloc[:2].index)"
   ]
  },
  {
   "cell_type": "markdown",
   "id": "8a5686f1-5217-405a-af6b-d57f13102c96",
   "metadata": {
    "tags": []
   },
   "source": [
    "<h1>3 - Найдите топ-10 товаров по числу проданных единиц за всё время и постройте барплот. Сколько было продано единиц товара с product_id==56?</h1>"
   ]
  },
  {
   "cell_type": "code",
   "execution_count": 66,
   "id": "d80bb51a-34dc-4d18-92c1-36c286e24628",
   "metadata": {
    "tags": []
   },
   "outputs": [],
   "source": [
    "top_10_products = df.groupby('product_id', as_index=False).agg({'quantity':'sum'}).sort_values('quantity', ascending=False).head(10)"
   ]
  },
  {
   "cell_type": "code",
   "execution_count": 67,
   "id": "9768331d-0034-4f3f-8a3e-9eafb5ed8406",
   "metadata": {
    "tags": []
   },
   "outputs": [
    {
     "data": {
      "text/html": [
       "<div>\n",
       "<style scoped>\n",
       "    .dataframe tbody tr th:only-of-type {\n",
       "        vertical-align: middle;\n",
       "    }\n",
       "\n",
       "    .dataframe tbody tr th {\n",
       "        vertical-align: top;\n",
       "    }\n",
       "\n",
       "    .dataframe thead th {\n",
       "        text-align: right;\n",
       "    }\n",
       "</style>\n",
       "<table border=\"1\" class=\"dataframe\">\n",
       "  <thead>\n",
       "    <tr style=\"text-align: right;\">\n",
       "      <th></th>\n",
       "      <th>product_id</th>\n",
       "      <th>quantity</th>\n",
       "    </tr>\n",
       "  </thead>\n",
       "  <tbody>\n",
       "    <tr>\n",
       "      <th>22</th>\n",
       "      <td>27</td>\n",
       "      <td>20</td>\n",
       "    </tr>\n",
       "    <tr>\n",
       "      <th>42</th>\n",
       "      <td>56</td>\n",
       "      <td>18</td>\n",
       "    </tr>\n",
       "    <tr>\n",
       "      <th>21</th>\n",
       "      <td>24</td>\n",
       "      <td>15</td>\n",
       "    </tr>\n",
       "    <tr>\n",
       "      <th>51</th>\n",
       "      <td>74</td>\n",
       "      <td>15</td>\n",
       "    </tr>\n",
       "    <tr>\n",
       "      <th>32</th>\n",
       "      <td>41</td>\n",
       "      <td>14</td>\n",
       "    </tr>\n",
       "    <tr>\n",
       "      <th>27</th>\n",
       "      <td>34</td>\n",
       "      <td>13</td>\n",
       "    </tr>\n",
       "    <tr>\n",
       "      <th>66</th>\n",
       "      <td>94</td>\n",
       "      <td>13</td>\n",
       "    </tr>\n",
       "    <tr>\n",
       "      <th>46</th>\n",
       "      <td>66</td>\n",
       "      <td>13</td>\n",
       "    </tr>\n",
       "    <tr>\n",
       "      <th>65</th>\n",
       "      <td>92</td>\n",
       "      <td>12</td>\n",
       "    </tr>\n",
       "    <tr>\n",
       "      <th>38</th>\n",
       "      <td>50</td>\n",
       "      <td>12</td>\n",
       "    </tr>\n",
       "  </tbody>\n",
       "</table>\n",
       "</div>"
      ],
      "text/plain": [
       "   product_id quantity\n",
       "22         27       20\n",
       "42         56       18\n",
       "21         24       15\n",
       "51         74       15\n",
       "32         41       14\n",
       "27         34       13\n",
       "66         94       13\n",
       "46         66       13\n",
       "65         92       12\n",
       "38         50       12"
      ]
     },
     "execution_count": 67,
     "metadata": {},
     "output_type": "execute_result"
    }
   ],
   "source": [
    "top_10_products"
   ]
  },
  {
   "cell_type": "code",
   "execution_count": 84,
   "id": "2776f64b-429a-4a5c-b097-f1134f8f97f5",
   "metadata": {
    "tags": []
   },
   "outputs": [
    {
     "data": {
      "text/plain": [
       "Text(0.5, 1.0, 'Bar plot Top-10 products')"
      ]
     },
     "execution_count": 84,
     "metadata": {},
     "output_type": "execute_result"
    },
    {
     "data": {
      "image/png": "[encoded data removed]",
      "text/plain": [
       "<Figure size 640x480 with 1 Axes>"
      ]
     },
     "metadata": {},
     "output_type": "display_data"
    }
   ],
   "source": [
    "plt.bar(x=top_10_products['product_id'], height=top_10_products['quantity'],width=2.5, color='green')\n",
    "plt.xlabel('Product ID')\n",
    "plt.ylabel('Quantity')\n",
    "plt.title('Bar plot Top-10 products')\n",
    "# Bar plot построен с помощью библиотеки matplotlib"
   ]
  },
  {
   "cell_type": "code",
   "execution_count": 83,
   "id": "5e9cbc11-d873-45f4-a682-e791611718a1",
   "metadata": {
    "tags": []
   },
   "outputs": [
    {
     "data": {
      "text/plain": [
       "<Axes: xlabel='product_id', ylabel='quantity'>"
      ]
     },
     "execution_count": 83,
     "metadata": {},
     "output_type": "execute_result"
    },
    {
     "data": {
      "image/png": "[encoded data removed]",
      "text/plain": [
       "<Figure size 640x480 with 1 Axes>"
      ]
     },
     "metadata": {},
     "output_type": "display_data"
    }
   ],
   "source": [
    "sns.barplot(data=top_10_products, x='product_id', y='quantity')\n",
    "# График построен с помощью библиотеки seaborn"
   ]
  },
  {
   "cell_type": "code",
   "execution_count": 85,
   "id": "7cbfff31-db82-480e-b8d4-5756ad1d98dd",
   "metadata": {
    "tags": []
   },
   "outputs": [
    {
     "data": {
      "text/html": [
       "<div>\n",
       "<style scoped>\n",
       "    .dataframe tbody tr th:only-of-type {\n",
       "        vertical-align: middle;\n",
       "    }\n",
       "\n",
       "    .dataframe tbody tr th {\n",
       "        vertical-align: top;\n",
       "    }\n",
       "\n",
       "    .dataframe thead th {\n",
       "        text-align: right;\n",
       "    }\n",
       "</style>\n",
       "<table border=\"1\" class=\"dataframe\">\n",
       "  <thead>\n",
       "    <tr style=\"text-align: right;\">\n",
       "      <th></th>\n",
       "      <th>product_id</th>\n",
       "      <th>quantity</th>\n",
       "    </tr>\n",
       "  </thead>\n",
       "  <tbody>\n",
       "    <tr>\n",
       "      <th>42</th>\n",
       "      <td>56</td>\n",
       "      <td>18</td>\n",
       "    </tr>\n",
       "  </tbody>\n",
       "</table>\n",
       "</div>"
      ],
      "text/plain": [
       "   product_id quantity\n",
       "42         56       18"
      ]
     },
     "execution_count": 85,
     "metadata": {},
     "output_type": "execute_result"
    }
   ],
   "source": [
    "top_10_products[top_10_products['product_id'] == 56]"
   ]
  },
  {
   "cell_type": "markdown",
   "id": "e73e3e43-2989-4e65-b619-9fd56211f633",
   "metadata": {
    "tags": []
   },
   "source": [
    "<h1>4 - Визуализируйте продажи по дням.</h1>"
   ]
  },
  {
   "cell_type": "code",
   "execution_count": 94,
   "id": "94758526-055d-4a23-9a67-56ebd4cd5b1a",
   "metadata": {
    "tags": []
   },
   "outputs": [
    {
     "data": {
      "image/png": "[encoded data removed]",
      "text/plain": [
       "<Figure size 1170x827 with 1 Axes>"
      ]
     },
     "metadata": {},
     "output_type": "display_data"
    }
   ],
   "source": [
    "sns.barplot(data=df.groupby('date', as_index=False).agg({'quantity':'sum'}), x='date', y='quantity')\n",
    "sns.set_theme(rc={'figure.figsize':(12,8.27)})"
   ]
  },
  {
   "cell_type": "markdown",
   "id": "ffdb2576-c007-42eb-8542-5cc63631e17b",
   "metadata": {},
   "source": [
    "<h1>5 - Сколько пользователей приобрели какой-либо товар повторно (более 1 раза)? Повтором будем считать покупку товара с одинаковым product_id, совершенную в разные дни.</h1>"
   ]
  },
  {
   "cell_type": "code",
   "execution_count": 95,
   "id": "1852ebd3-8cfe-4b43-b08d-5f5678d642c1",
   "metadata": {
    "tags": []
   },
   "outputs": [
    {
     "data": {
      "text/html": [
       "<div>\n",
       "<style scoped>\n",
       "    .dataframe tbody tr th:only-of-type {\n",
       "        vertical-align: middle;\n",
       "    }\n",
       "\n",
       "    .dataframe tbody tr th {\n",
       "        vertical-align: top;\n",
       "    }\n",
       "\n",
       "    .dataframe thead th {\n",
       "        text-align: right;\n",
       "    }\n",
       "</style>\n",
       "<table border=\"1\" class=\"dataframe\">\n",
       "  <thead>\n",
       "    <tr style=\"text-align: right;\">\n",
       "      <th></th>\n",
       "      <th>product_id</th>\n",
       "      <th>quantity</th>\n",
       "      <th>name</th>\n",
       "      <th>date</th>\n",
       "      <th>Unnamed: 0</th>\n",
       "    </tr>\n",
       "  </thead>\n",
       "  <tbody>\n",
       "    <tr>\n",
       "      <th>0</th>\n",
       "      <td>47</td>\n",
       "      <td>1</td>\n",
       "      <td>Alexey_Smirnov</td>\n",
       "      <td>2020-12-03</td>\n",
       "      <td>0.0</td>\n",
       "    </tr>\n",
       "    <tr>\n",
       "      <th>1</th>\n",
       "      <td>57</td>\n",
       "      <td>1</td>\n",
       "      <td>Alexey_Smirnov</td>\n",
       "      <td>2020-12-03</td>\n",
       "      <td>1.0</td>\n",
       "    </tr>\n",
       "    <tr>\n",
       "      <th>2</th>\n",
       "      <td>14</td>\n",
       "      <td>2</td>\n",
       "      <td>Alexey_Smirnov</td>\n",
       "      <td>2020-12-03</td>\n",
       "      <td>2.0</td>\n",
       "    </tr>\n",
       "    <tr>\n",
       "      <th>3</th>\n",
       "      <td>52</td>\n",
       "      <td>1</td>\n",
       "      <td>Alexey_Smirnov</td>\n",
       "      <td>2020-12-03</td>\n",
       "      <td>3.0</td>\n",
       "    </tr>\n",
       "    <tr>\n",
       "      <th>4</th>\n",
       "      <td>1</td>\n",
       "      <td>4</td>\n",
       "      <td>Alexey_Smirnov</td>\n",
       "      <td>2020-12-03</td>\n",
       "      <td>4.0</td>\n",
       "    </tr>\n",
       "    <tr>\n",
       "      <th>...</th>\n",
       "      <td>...</td>\n",
       "      <td>...</td>\n",
       "      <td>...</td>\n",
       "      <td>...</td>\n",
       "      <td>...</td>\n",
       "    </tr>\n",
       "    <tr>\n",
       "      <th>156</th>\n",
       "      <td>66</td>\n",
       "      <td>4</td>\n",
       "      <td>Rostislav_Petrov</td>\n",
       "      <td>2020-12-09</td>\n",
       "      <td>1.0</td>\n",
       "    </tr>\n",
       "    <tr>\n",
       "      <th>157</th>\n",
       "      <td>39</td>\n",
       "      <td>2</td>\n",
       "      <td>Rostislav_Petrov</td>\n",
       "      <td>2020-12-09</td>\n",
       "      <td>2.0</td>\n",
       "    </tr>\n",
       "    <tr>\n",
       "      <th>158</th>\n",
       "      <td>82</td>\n",
       "      <td>4</td>\n",
       "      <td>Vasiliy_Ivanov</td>\n",
       "      <td>2020-12-09</td>\n",
       "      <td>0.0</td>\n",
       "    </tr>\n",
       "    <tr>\n",
       "      <th>159</th>\n",
       "      <td>74</td>\n",
       "      <td>2</td>\n",
       "      <td>Vasiliy_Ivanov</td>\n",
       "      <td>2020-12-09</td>\n",
       "      <td>1.0</td>\n",
       "    </tr>\n",
       "    <tr>\n",
       "      <th>160</th>\n",
       "      <td>54</td>\n",
       "      <td>3</td>\n",
       "      <td>Vasiliy_Ivanov</td>\n",
       "      <td>2020-12-09</td>\n",
       "      <td>2.0</td>\n",
       "    </tr>\n",
       "  </tbody>\n",
       "</table>\n",
       "<p>161 rows × 5 columns</p>\n",
       "</div>"
      ],
      "text/plain": [
       "    product_id quantity              name        date  Unnamed: 0\n",
       "0           47        1    Alexey_Smirnov  2020-12-03         0.0\n",
       "1           57        1    Alexey_Smirnov  2020-12-03         1.0\n",
       "2           14        2    Alexey_Smirnov  2020-12-03         2.0\n",
       "3           52        1    Alexey_Smirnov  2020-12-03         3.0\n",
       "4            1        4    Alexey_Smirnov  2020-12-03         4.0\n",
       "..         ...      ...               ...         ...         ...\n",
       "156         66        4  Rostislav_Petrov  2020-12-09         1.0\n",
       "157         39        2  Rostislav_Petrov  2020-12-09         2.0\n",
       "158         82        4    Vasiliy_Ivanov  2020-12-09         0.0\n",
       "159         74        2    Vasiliy_Ivanov  2020-12-09         1.0\n",
       "160         54        3    Vasiliy_Ivanov  2020-12-09         2.0\n",
       "\n",
       "[161 rows x 5 columns]"
      ]
     },
     "execution_count": 95,
     "metadata": {},
     "output_type": "execute_result"
    }
   ],
   "source": [
    "df"
   ]
  },
  {
   "cell_type": "code",
   "execution_count": 96,
   "id": "68d34811-2104-4603-9d67-ccbc1a4ca9dd",
   "metadata": {
    "tags": []
   },
   "outputs": [],
   "source": [
    "other_date = df.groupby(['name','product_id'], as_index=False).agg({'date':'count'}).query('date > 1')"
   ]
  },
  {
   "cell_type": "code",
   "execution_count": 97,
   "id": "580afce7-0cf9-4496-bd6a-b33a5ad81741",
   "metadata": {
    "tags": []
   },
   "outputs": [
    {
     "data": {
      "text/html": [
       "<div>\n",
       "<style scoped>\n",
       "    .dataframe tbody tr th:only-of-type {\n",
       "        vertical-align: middle;\n",
       "    }\n",
       "\n",
       "    .dataframe tbody tr th {\n",
       "        vertical-align: top;\n",
       "    }\n",
       "\n",
       "    .dataframe thead th {\n",
       "        text-align: right;\n",
       "    }\n",
       "</style>\n",
       "<table border=\"1\" class=\"dataframe\">\n",
       "  <thead>\n",
       "    <tr style=\"text-align: right;\">\n",
       "      <th></th>\n",
       "      <th>name</th>\n",
       "      <th>product_id</th>\n",
       "      <th>date</th>\n",
       "    </tr>\n",
       "  </thead>\n",
       "  <tbody>\n",
       "    <tr>\n",
       "      <th>30</th>\n",
       "      <td>Alexey_Smirnov</td>\n",
       "      <td>55</td>\n",
       "      <td>2</td>\n",
       "    </tr>\n",
       "    <tr>\n",
       "      <th>37</th>\n",
       "      <td>Anton_Ivanov</td>\n",
       "      <td>15</td>\n",
       "      <td>2</td>\n",
       "    </tr>\n",
       "    <tr>\n",
       "      <th>92</th>\n",
       "      <td>Petr_Fedorov</td>\n",
       "      <td>94</td>\n",
       "      <td>2</td>\n",
       "    </tr>\n",
       "  </tbody>\n",
       "</table>\n",
       "</div>"
      ],
      "text/plain": [
       "              name product_id  date\n",
       "30  Alexey_Smirnov         55     2\n",
       "37    Anton_Ivanov         15     2\n",
       "92    Petr_Fedorov         94     2"
      ]
     },
     "execution_count": 97,
     "metadata": {},
     "output_type": "execute_result"
    }
   ],
   "source": [
    "other_date"
   ]
  },
  {
   "cell_type": "code",
   "execution_count": null,
   "id": "9380ae72-166c-45b8-baa3-b8bf98086a25",
   "metadata": {},
   "outputs": [],
   "source": []
  }
 ],
 "metadata": {
  "kernelspec": {
   "display_name": "Python 3 (ipykernel)",
   "language": "python",
   "name": "python3"
  },
  "language_info": {
   "codemirror_mode": {
    "name": "ipython",
    "version": 3
   },
   "file_extension": ".py",
   "mimetype": "text/x-python",
   "name": "python",
   "nbconvert_exporter": "python",
   "pygments_lexer": "ipython3",
   "version": "3.11.5"
  }
 },
 "nbformat": 4,
 "nbformat_minor": 5
}
